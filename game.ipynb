{
 "cells": [
  {
   "cell_type": "code",
   "execution_count": 1,
   "metadata": {},
   "outputs": [],
   "source": [
    "import os\n",
    "import glob\n",
    "\n",
    "from dataclasses import dataclass\n",
    "from pathlib import Path\n",
    "import shutil\n",
    "\n",
    "import tensorflow as tf\n",
    "import numpy as np\n",
    "from tqdm import tqdm\n",
    "from qiskit import QuantumCircuit\n",
    "import yaml\n",
    "import ray\n",
    "\n",
    "from rl.network import ResNet\n",
    "from rl.mcts import MCTS\n",
    "from rl.buffer import ReplayBuffer\n",
    "\n",
    "from rl.game import Game, encode_state\n",
    "\n",
    "with open(\"config.yaml\", \"r\") as f:\n",
    "    config = yaml.safe_load(f)\n",
    "base_path = \"graphs\"\n",
    "index = \"20241120\"\n",
    "qubits = config[\"game_settings\"][\"N\"]\n",
    "gate = config[\"game_settings\"][\"gate\"]\n",
    "layer = config[\"game_settings\"][\"layer\"]\n",
    "training_settings = config[\"training_settings\"]\n",
    "network_settings = config[\"network_settings\"]\n",
    "mcts_settings = config[\"mcts_settings\"]\n",
    "num_cpus = training_settings[\"num_cpus\"]\n",
    "num_gpus = training_settings[\"num_gpus\"]\n",
    "n_episodes = training_settings[\"n_episodes\"]\n",
    "buffer_size = training_settings[\"buffer_size\"]\n",
    "batch_size = training_settings[\"batch_size\"]\n",
    "epochs_per_update = training_settings[\"epochs_per_update\"]\n",
    "update_period = training_settings[\"update_period\"]\n",
    "save_period = training_settings[\"save_period\"]\n",
    "game = Game(qubits, config)\n",
    "\n",
    "\n",
    "def evaluate_self_play(qubits, network):\n",
    "    pattern = os.path.join(base_path, f\"adj_matrix_{qubits}_*.npy\")\n",
    "    file_paths = glob.glob(pattern)\n",
    "    avg_depth = []\n",
    "    avg_counts = []\n",
    "    for file_path in file_paths:\n",
    "        state = np.load(file_path)\n",
    "        swap_pairs = []\n",
    "        done = False\n",
    "        total_score = 0\n",
    "        step_count = 0\n",
    "        prev_action = None\n",
    "        while not done and step_count < game.MAX_STEPS:\n",
    "            encoded_state = encode_state(state, qubits)\n",
    "            input_state = np.expand_dims(encoded_state, axis=0)\n",
    "            policy_output, value_output = network.predict(input_state)\n",
    "            policy = policy_output[0]\n",
    "            if prev_action is not None:\n",
    "                indices = [i for i in range(len(game.coupling_map)) if i != prev_action]\n",
    "                prob = policy[indices]\n",
    "                if prob.sum() < 1e-9:\n",
    "                    action = np.random.choice(indices)\n",
    "                else:\n",
    "                    action = np.random.choice(indices, p=prob / prob.sum())\n",
    "            else:\n",
    "                indices = list(range(len(game.coupling_map)))\n",
    "                action = np.random.choice(indices, p=policy)\n",
    "            selected_action = game.coupling_map[action]\n",
    "            swap_pairs.append(selected_action)\n",
    "            state, done, _ = game.step(state, action, prev_action)\n",
    "            prev_action = action\n",
    "            step_count += 1\n",
    "        qc = QuantumCircuit(qubits)\n",
    "        if not done:\n",
    "            depth = game.MAX_STEPS\n",
    "            swap_count = game.MAX_STEPS\n",
    "        else:\n",
    "            for swap in swap_pairs:\n",
    "                qc.swap(*swap)\n",
    "            depth = qc.depth(lambda instr: instr.name == \"swap\")\n",
    "            swap_count = len(swap_pairs)\n",
    "        avg_counts.append(swap_count)\n",
    "        avg_depth.append(depth)\n",
    "    return np.mean(avg_depth), np.mean(avg_counts)\n",
    "@dataclass\n",
    "class Sample:\n",
    "    state: np.ndarray\n",
    "    mcts_policy: np.ndarray\n",
    "    reward: float\n",
    "\n",
    "\n",
    "@ray.remote(num_cpus=num_cpus, num_gpus=num_gpus)\n",
    "def selfplay(weights, qubits, current_episode, test=False):\n",
    "    \"\"\"Perform a self-play game and collect training data.\"\"\"\n",
    "    record = []\n",
    "    if test:\n",
    "        state = game.get_initial_test_state()\n",
    "    else:\n",
    "        state = game.state\n",
    "    game.reset_used_columns()\n",
    "    network = ResNet(action_space=len(game.coupling_map), config=config)\n",
    "\n",
    "    # Initialize network parameters\n",
    "    network.predict(encode_state(state, qubits))\n",
    "    network.set_weights(weights)\n",
    "\n",
    "    mcts = MCTS(qubits=qubits, network=network, config=config)\n",
    "    mcts.current_episode = current_episode\n",
    "    done = False\n",
    "    total_score = 0\n",
    "    step_count = 0\n",
    "    prev_action = None\n",
    "    while not done and step_count < game.MAX_STEPS:\n",
    "        mcts_policy = mcts.search(\n",
    "            root_state=state,\n",
    "            num_simulations=mcts_settings[\"num_mcts_simulations\"],\n",
    "            prev_action=prev_action,\n",
    "        )\n",
    "        if prev_action is not None:\n",
    "            indices = [i for i in range(len(game.coupling_map)) if i != prev_action]\n",
    "            prob = mcts_policy[indices]\n",
    "            prob = prob / prob.sum()\n",
    "            # if use_network_policy:\n",
    "            #     prob = np.ones(len(prob))/len(prob)\n",
    "            action = np.random.choice(indices, p=prob)\n",
    "        else:\n",
    "            indices = list(range(len(game.coupling_map)))\n",
    "            prob = mcts_policy\n",
    "            # if use_network_policy:\n",
    "            #     prob = np.ones(len(mcts_policy))/len(mcts_policy)\n",
    "            action = np.random.choice(indices, p=prob)\n",
    "        record.append(Sample(state.copy(), mcts_policy, reward=None))\n",
    "        state, done, action_score = game.step(state, action, prev_action)\n",
    "        prev_action = action\n",
    "        # print(state, action_score, done)\n",
    "        total_score += action_score\n",
    "        step_count += 1\n",
    "\n",
    "    # The reward is calculated based on the final state\n",
    "    reward = game.get_reward(state, total_score)\n",
    "    # Assign the reward to each sample\n",
    "    for sample in record:\n",
    "        sample.reward = reward\n",
    "    return record"
   ]
  },
  {
   "cell_type": "code",
   "execution_count": 2,
   "metadata": {},
   "outputs": [
    {
     "name": "stderr",
     "output_type": "stream",
     "text": [
      "2024-11-30 12:28:40,875\tINFO worker.py:1807 -- Started a local Ray instance. View the dashboard at \u001b[1m\u001b[32mhttp://127.0.0.1:8265 \u001b[39m\u001b[22m\n"
     ]
    },
    {
     "name": "stdout",
     "output_type": "stream",
     "text": [
      "{'CPU': 8.0, 'memory': 40702418944.0, 'node:127.0.0.1': 1.0, 'object_store_memory': 2147483648.0, 'node:__internal_head__': 1.0}\n"
     ]
    },
    {
     "name": "stderr",
     "output_type": "stream",
     "text": [
      "100%|██████████| 50/50 [03:32<00:00,  4.25s/it]\n"
     ]
    },
    {
     "name": "stdout",
     "output_type": "stream",
     "text": [
      "SWAP depth is 7.533333333333333, SWAP count is 11.133333333333333\n",
      "--------------------------------------------------\n"
     ]
    },
    {
     "name": "stderr",
     "output_type": "stream",
     "text": [
      "100%|██████████| 50/50 [02:51<00:00,  3.44s/it]\n"
     ]
    },
    {
     "name": "stdout",
     "output_type": "stream",
     "text": [
      "SWAP depth is 6.8, SWAP count is 10.533333333333333\n",
      "--------------------------------------------------\n"
     ]
    },
    {
     "name": "stderr",
     "output_type": "stream",
     "text": [
      "100%|██████████| 50/50 [02:06<00:00,  2.54s/it]\n"
     ]
    },
    {
     "name": "stdout",
     "output_type": "stream",
     "text": [
      "SWAP depth is 7.033333333333333, SWAP count is 10.8\n",
      "--------------------------------------------------\n"
     ]
    },
    {
     "name": "stderr",
     "output_type": "stream",
     "text": [
      "100%|██████████| 50/50 [01:59<00:00,  2.39s/it]\n"
     ]
    },
    {
     "name": "stdout",
     "output_type": "stream",
     "text": [
      "SWAP depth is 7.033333333333333, SWAP count is 11.033333333333333\n",
      "--------------------------------------------------\n"
     ]
    },
    {
     "name": "stderr",
     "output_type": "stream",
     "text": [
      "100%|██████████| 50/50 [01:55<00:00,  2.32s/it]\n"
     ]
    },
    {
     "name": "stdout",
     "output_type": "stream",
     "text": [
      "SWAP depth is 6.9, SWAP count is 10.6\n",
      "--------------------------------------------------\n"
     ]
    },
    {
     "name": "stderr",
     "output_type": "stream",
     "text": [
      "100%|██████████| 50/50 [01:45<00:00,  2.11s/it]\n"
     ]
    },
    {
     "name": "stdout",
     "output_type": "stream",
     "text": [
      "SWAP depth is 6.733333333333333, SWAP count is 9.933333333333334\n",
      "--------------------------------------------------\n"
     ]
    },
    {
     "name": "stderr",
     "output_type": "stream",
     "text": [
      "100%|██████████| 50/50 [01:40<00:00,  2.00s/it]\n"
     ]
    },
    {
     "name": "stdout",
     "output_type": "stream",
     "text": [
      "SWAP depth is 6.233333333333333, SWAP count is 9.9\n",
      "--------------------------------------------------\n"
     ]
    },
    {
     "name": "stderr",
     "output_type": "stream",
     "text": [
      "100%|██████████| 50/50 [01:36<00:00,  1.93s/it]\n"
     ]
    },
    {
     "name": "stdout",
     "output_type": "stream",
     "text": [
      "SWAP depth is 6.533333333333333, SWAP count is 10.3\n",
      "--------------------------------------------------\n"
     ]
    },
    {
     "name": "stderr",
     "output_type": "stream",
     "text": [
      "100%|██████████| 50/50 [01:36<00:00,  1.92s/it]\n"
     ]
    },
    {
     "name": "stdout",
     "output_type": "stream",
     "text": [
      "SWAP depth is 6.466666666666667, SWAP count is 10.133333333333333\n",
      "--------------------------------------------------\n"
     ]
    },
    {
     "name": "stderr",
     "output_type": "stream",
     "text": [
      "100%|██████████| 50/50 [01:30<00:00,  1.81s/it]\n"
     ]
    },
    {
     "name": "stdout",
     "output_type": "stream",
     "text": [
      "SWAP depth is 6.866666666666666, SWAP count is 10.7\n",
      "--------------------------------------------------\n"
     ]
    },
    {
     "name": "stderr",
     "output_type": "stream",
     "text": [
      "100%|██████████| 50/50 [01:31<00:00,  1.82s/it]\n"
     ]
    },
    {
     "name": "stdout",
     "output_type": "stream",
     "text": [
      "SWAP depth is 7.1, SWAP count is 11.233333333333333\n",
      "--------------------------------------------------\n"
     ]
    },
    {
     "name": "stderr",
     "output_type": "stream",
     "text": [
      "100%|██████████| 50/50 [01:31<00:00,  1.82s/it]\n"
     ]
    },
    {
     "name": "stdout",
     "output_type": "stream",
     "text": [
      "SWAP depth is 6.266666666666667, SWAP count is 9.766666666666667\n",
      "--------------------------------------------------\n"
     ]
    },
    {
     "name": "stderr",
     "output_type": "stream",
     "text": [
      " 88%|████████▊ | 44/50 [01:22<00:13,  2.18s/it]"
     ]
    }
   ],
   "source": [
    "ray.init(num_cpus=num_cpus, num_gpus=num_gpus, local_mode=False, include_dashboard=True)\n",
    "print(ray.available_resources())\n",
    "logdir = Path(\"log\")\n",
    "if logdir.exists():\n",
    "    shutil.rmtree(logdir)\n",
    "summary_writer = tf.summary.create_file_writer(str(logdir))\n",
    "\n",
    "\n",
    "network = ResNet(action_space=len(game.coupling_map), config=config)\n",
    "\n",
    "dummy_state = encode_state(game.state, qubits)\n",
    "network.predict(dummy_state)\n",
    "\n",
    "# current_weights = network.get_weights()\n",
    "current_weights = ray.put(network.get_weights())\n",
    "\n",
    "optimizer = tf.keras.optimizers.Adam(learning_rate=network_settings[\"learning_rate\"])\n",
    "\n",
    "replay = ReplayBuffer(buffer_size=buffer_size)\n",
    "\n",
    "# # Start self-play workers\n",
    "# work_in_progresses = [selfplay(current_weights,qubits, True)]\n",
    "work_in_progresses = [\n",
    "    selfplay.remote(current_weights, qubits, True) for _ in range(num_cpus - 1)\n",
    "]\n",
    "n_updates = 0\n",
    "\n",
    "n = 0\n",
    "while n < n_episodes:\n",
    "    for _ in tqdm(range(update_period)):\n",
    "        # finished = selfplay(current_weights,qubits, n, test=False)\n",
    "        # replay.add_record(finished)\n",
    "        finished, work_in_progresses = ray.wait(work_in_progresses, num_returns=1)\n",
    "        replay.add_record(ray.get(finished[0]))\n",
    "        work_in_progresses.extend([selfplay.remote(current_weights, qubits, True)])\n",
    "        n += 1\n",
    "\n",
    "    # Update network\n",
    "    if len(replay) >= batch_size:\n",
    "        num_iters = epochs_per_update * (len(replay) // batch_size)\n",
    "        value_loss_weight = 1\n",
    "        policy_loss_weight = 1\n",
    "        for i in range(num_iters):\n",
    "            states, mcts_policy, rewards = replay.get_minibatch(batch_size=batch_size)\n",
    "            with tf.GradientTape() as tape:\n",
    "                p_pred, v_pred = network(states, training=True)\n",
    "                value_loss = tf.square(rewards - v_pred)\n",
    "                policy_loss = -tf.reduce_sum(\n",
    "                    mcts_policy * tf.math.log(p_pred + 1e-5), axis=1, keepdims=True\n",
    "                )\n",
    "                loss = tf.reduce_mean(\n",
    "                    value_loss_weight * value_loss + policy_loss_weight * policy_loss\n",
    "                )\n",
    "            grads = tape.gradient(loss, network.trainable_variables)\n",
    "            grads, _ = tf.clip_by_global_norm(grads, 1.0)\n",
    "            optimizer.apply_gradients(zip(grads, network.trainable_variables))\n",
    "            n_updates += 1\n",
    "\n",
    "            if i % 10 == 0:\n",
    "                with summary_writer.as_default():\n",
    "                    tf.summary.scalar(\n",
    "                        \"value_loss\", tf.reduce_mean(value_loss), step=n_updates\n",
    "                    )\n",
    "                    tf.summary.scalar(\n",
    "                        \"policy_loss\", tf.reduce_mean(policy_loss), step=n_updates\n",
    "                    )\n",
    "\n",
    "        # current_weights = network.get_weights()k？\n",
    "        current_weights = ray.put(network.get_weights())\n",
    "\n",
    "    if n % save_period == 0:\n",
    "        network.save(f\"checkpoints/network{qubits}_{index}_{n}.keras\")\n",
    "        network.save_weights(f\"checkpoints/network{qubits}_{index}_{n}.weights.h5\")\n",
    "        depth, count = evaluate_self_play(qubits,network)\n",
    "        print(f\"SWAP depth is {depth}, SWAP count is {count}\")\n",
    "        print(\"-\" * 50)"
   ]
  },
  {
   "cell_type": "code",
   "execution_count": 3,
   "metadata": {},
   "outputs": [],
   "source": [
    "import numpy as np\n",
    "import tensorflow as tf\n",
    "from rl.network import ResNet\n",
    "import rl.game as game\n",
    "\n",
    "game = Game(qubits, config)\n",
    "\n",
    "network = ResNet(action_space=len(game.coupling_map),config=config)\n",
    "# network = tf.keras.models.load_model(f\"checkpoints/network{qubits}_{index}_700.keras\")\n",
    "# 初期状態の生成\n",
    "network.load_weights(f\"checkpoints/network{qubits}_{index}_700.weights.h5\")"
   ]
  },
  {
   "cell_type": "code",
   "execution_count": 14,
   "metadata": {},
   "outputs": [
    {
     "name": "stdout",
     "output_type": "stream",
     "text": [
      "[[0. 0. 1. 1. 1. 1. 0.]\n",
      " [0. 0. 0. 1. 0. 1. 1.]\n",
      " [1. 0. 0. 0. 1. 1. 0.]\n",
      " [1. 1. 0. 0. 0. 1. 1.]\n",
      " [1. 0. 1. 0. 0. 0. 1.]\n",
      " [1. 1. 1. 1. 0. 0. 0.]\n",
      " [0. 1. 0. 1. 1. 0. 0.]]\n",
      "Game terminated after reaching the maximum steps (25).\n",
      "Total score: 0\n",
      "[[0. 0. 1. 1. 1. 1. 0.]\n",
      " [0. 0. 0. 1. 0. 1. 1.]\n",
      " [1. 0. 0. 0. 1. 1. 0.]\n",
      " [1. 1. 0. 0. 0. 1. 1.]\n",
      " [1. 0. 1. 0. 0. 0. 1.]\n",
      " [1. 1. 1. 1. 0. 0. 0.]\n",
      " [0. 1. 0. 1. 1. 0. 0.]]\n",
      "Game terminated after reaching the maximum steps (25).\n",
      "Total score: 0\n",
      "[[0. 0. 1. 1. 1. 1. 0.]\n",
      " [0. 0. 0. 1. 0. 1. 1.]\n",
      " [1. 0. 0. 0. 1. 1. 0.]\n",
      " [1. 1. 0. 0. 0. 1. 1.]\n",
      " [1. 0. 1. 0. 0. 0. 1.]\n",
      " [1. 1. 1. 1. 0. 0. 0.]\n",
      " [0. 1. 0. 1. 1. 0. 0.]]\n",
      "Game terminated after reaching the maximum steps (25).\n",
      "Total score: 0\n",
      "[[0. 0. 1. 1. 1. 1. 0.]\n",
      " [0. 0. 0. 1. 0. 1. 1.]\n",
      " [1. 0. 0. 0. 1. 1. 0.]\n",
      " [1. 1. 0. 0. 0. 1. 1.]\n",
      " [1. 0. 1. 0. 0. 0. 1.]\n",
      " [1. 1. 1. 1. 0. 0. 0.]\n",
      " [0. 1. 0. 1. 1. 0. 0.]]\n",
      "Game terminated after reaching the maximum steps (25).\n",
      "Total score: 0\n",
      "[[0. 0. 1. 1. 1. 1. 0.]\n",
      " [0. 0. 0. 1. 0. 1. 1.]\n",
      " [1. 0. 0. 0. 1. 1. 0.]\n",
      " [1. 1. 0. 0. 0. 1. 1.]\n",
      " [1. 0. 1. 0. 0. 0. 1.]\n",
      " [1. 1. 1. 1. 0. 0. 0.]\n",
      " [0. 1. 0. 1. 1. 0. 0.]]\n",
      "Game terminated after reaching the maximum steps (25).\n",
      "Total score: 0\n",
      "[[0. 0. 1. 1. 1. 1. 0.]\n",
      " [0. 0. 0. 1. 0. 1. 1.]\n",
      " [1. 0. 0. 0. 1. 1. 0.]\n",
      " [1. 1. 0. 0. 0. 1. 1.]\n",
      " [1. 0. 1. 0. 0. 0. 1.]\n",
      " [1. 1. 1. 1. 0. 0. 0.]\n",
      " [0. 1. 0. 1. 1. 0. 0.]]\n",
      "Game finished successfully in 23 steps with [(3, 4), (4, 5), (3, 4), (0, 1), (3, 4), (2, 3), (3, 4), (2, 3), (3, 4), (5, 6), (3, 4), (1, 2), (3, 4), (2, 3), (3, 4), (0, 1), (3, 4), (1, 2), (3, 4), (2, 3), (3, 4), (5, 6), (4, 5)]\n",
      "[[0. 0. 1. 1. 1. 1. 0.]\n",
      " [0. 0. 0. 1. 0. 1. 1.]\n",
      " [1. 0. 0. 0. 1. 1. 0.]\n",
      " [1. 1. 0. 0. 0. 1. 1.]\n",
      " [1. 0. 1. 0. 0. 0. 1.]\n",
      " [1. 1. 1. 1. 0. 0. 0.]\n",
      " [0. 1. 0. 1. 1. 0. 0.]]\n",
      "Game terminated after reaching the maximum steps (25).\n",
      "Total score: 0\n",
      "[[0. 0. 1. 1. 1. 1. 0.]\n",
      " [0. 0. 0. 1. 0. 1. 1.]\n",
      " [1. 0. 0. 0. 1. 1. 0.]\n",
      " [1. 1. 0. 0. 0. 1. 1.]\n",
      " [1. 0. 1. 0. 0. 0. 1.]\n",
      " [1. 1. 1. 1. 0. 0. 0.]\n",
      " [0. 1. 0. 1. 1. 0. 0.]]\n",
      "Game terminated after reaching the maximum steps (25).\n",
      "Total score: 0\n",
      "[[0. 0. 1. 1. 1. 1. 0.]\n",
      " [0. 0. 0. 1. 0. 1. 1.]\n",
      " [1. 0. 0. 0. 1. 1. 0.]\n",
      " [1. 1. 0. 0. 0. 1. 1.]\n",
      " [1. 0. 1. 0. 0. 0. 1.]\n",
      " [1. 1. 1. 1. 0. 0. 0.]\n",
      " [0. 1. 0. 1. 1. 0. 0.]]\n",
      "Game terminated after reaching the maximum steps (25).\n",
      "Total score: 0\n",
      "[[0. 0. 1. 1. 1. 1. 0.]\n",
      " [0. 0. 0. 1. 0. 1. 1.]\n",
      " [1. 0. 0. 0. 1. 1. 0.]\n",
      " [1. 1. 0. 0. 0. 1. 1.]\n",
      " [1. 0. 1. 0. 0. 0. 1.]\n",
      " [1. 1. 1. 1. 0. 0. 0.]\n",
      " [0. 1. 0. 1. 1. 0. 0.]]\n",
      "Game terminated after reaching the maximum steps (25).\n",
      "Total score: 0\n",
      "[[0. 0. 1. 1. 1. 1. 0.]\n",
      " [0. 0. 0. 1. 0. 1. 1.]\n",
      " [1. 0. 0. 0. 1. 1. 0.]\n",
      " [1. 1. 0. 0. 0. 1. 1.]\n",
      " [1. 0. 1. 0. 0. 0. 1.]\n",
      " [1. 1. 1. 1. 0. 0. 0.]\n",
      " [0. 1. 0. 1. 1. 0. 0.]]\n",
      "Game terminated after reaching the maximum steps (25).\n",
      "Total score: 0\n",
      "[[0. 0. 1. 1. 1. 1. 0.]\n",
      " [0. 0. 0. 1. 0. 1. 1.]\n",
      " [1. 0. 0. 0. 1. 1. 0.]\n",
      " [1. 1. 0. 0. 0. 1. 1.]\n",
      " [1. 0. 1. 0. 0. 0. 1.]\n",
      " [1. 1. 1. 1. 0. 0. 0.]\n",
      " [0. 1. 0. 1. 1. 0. 0.]]\n",
      "Game terminated after reaching the maximum steps (25).\n",
      "Total score: 0\n"
     ]
    }
   ],
   "source": [
    "for _ in range(12):\n",
    "    state = game.state\n",
    "    ans = []\n",
    "    done = False\n",
    "    total_score = 0\n",
    "    step_count = 0\n",
    "    prev_action = None\n",
    "    print(state)\n",
    "    while not done and step_count < game.MAX_STEPS:\n",
    "        encoded_state = encode_state(state, qubits)\n",
    "        input_state = np.expand_dims(encoded_state, axis=0)\n",
    "\n",
    "        policy_output, value_output = network.predict(input_state)\n",
    "        policy = policy_output[0]\n",
    "        if prev_action is not None:\n",
    "            indices = [i for i in range(len(game.coupling_map)) if i != prev_action]\n",
    "\n",
    "            prob = policy[indices]\n",
    "            if prob.sum() < 1e-6:\n",
    "                action = np.random.choice(indices)\n",
    "            else:\n",
    "                action = np.random.choice(indices, p=prob / prob.sum())\n",
    "        else:\n",
    "            indices = list(range(len(game.coupling_map)))\n",
    "            action = np.random.choice(indices, p=policy)\n",
    "        selected_action = game.coupling_map[action]\n",
    "        ans.append(selected_action)\n",
    "        state, done, _ = game.step(state, action, prev_action)\n",
    "        prev_action = action\n",
    "        step_count += 1\n",
    "\n",
    "    if done:\n",
    "        print(f\"Game finished successfully in {step_count} steps with {ans}\")\n",
    "    else:\n",
    "        print(f\"Game terminated after reaching the maximum steps ({game.MAX_STEPS}).\")\n",
    "        print(f\"Total score: {total_score}\")"
   ]
  },
  {
   "cell_type": "code",
   "execution_count": null,
   "metadata": {},
   "outputs": [],
   "source": []
  }
 ],
 "metadata": {
  "kernelspec": {
   "display_name": "aitranspiler",
   "language": "python",
   "name": "aitranspiler"
  },
  "language_info": {
   "codemirror_mode": {
    "name": "ipython",
    "version": 3
   },
   "file_extension": ".py",
   "mimetype": "text/x-python",
   "name": "python",
   "nbconvert_exporter": "python",
   "pygments_lexer": "ipython3",
   "version": "3.11.5"
  }
 },
 "nbformat": 4,
 "nbformat_minor": 2
}
