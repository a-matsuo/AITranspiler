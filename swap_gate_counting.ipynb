{
 "cells": [
  {
   "cell_type": "code",
   "execution_count": 1,
   "metadata": {},
   "outputs": [],
   "source": [
    "import glob\n",
    "import os\n",
    "from collections import defaultdict\n",
    "import numpy as np\n",
    "import matplotlib.pyplot as plt\n",
    "from swap_strategy import create_qaoa_swap_circuit, SATMapper\n",
    "from utils import load_graph_from_npy\n",
    "from graph_to_ansatz import GraphAnsatzConverter\n",
    "from qiskit.transpiler.passes.routing.commuting_2q_gate_routing import SwapStrategy\n",
    "import yaml\n",
    "from qiskit import QuantumCircuit\n",
    "\n",
    "base_path = \"graphs\"\n",
    "index = \"20241111\"\n",
    "with open(\"config.yaml\", \"r\") as f:\n",
    "    config = yaml.safe_load(f)\n",
    "swap_strategy_results = defaultdict(list)\n"
   ]
  },
  {
   "cell_type": "code",
   "execution_count": 2,
   "metadata": {},
   "outputs": [],
   "source": [
    "def plot_swap_counts(results, label=None, color=\"blue\"):\n",
    "    keys = list(results.keys())\n",
    "    means = [np.mean(values) for values in results.values()]\n",
    "    std_devs = [np.std(values) for values in results.values()]\n",
    "\n",
    "    plt.figure(figsize=(8, 6))\n",
    "    plt.plot(keys, means, label=label, marker=\"o\", linestyle=\"-\", color=color)\n",
    "    plt.fill_between(\n",
    "        keys,\n",
    "        [m - s for m, s in zip(means, std_devs)],\n",
    "        [m + s for m, s in zip(means, std_devs)],\n",
    "        color=color,\n",
    "        alpha=0.2,\n",
    "    )\n",
    "\n",
    "    plt.xlabel(\"Qubits\")\n",
    "    plt.ylabel(\"Swap counts\")\n",
    "    plt.title(\"Swap counts vs. qubit counts\")\n",
    "    plt.legend()\n",
    "    plt.grid(True)\n",
    "\n",
    "    plt.show()"
   ]
  },
  {
   "cell_type": "code",
   "execution_count": null,
   "metadata": {},
   "outputs": [],
   "source": [
    "for n in range(8, 9):\n",
    "    pattern = os.path.join(base_path, f\"adj_matrix_{n}_*.npy\")\n",
    "    file_paths = glob.glob(pattern)\n",
    "    for file_path in file_paths:\n",
    "        g = load_graph_from_npy(file_path)\n",
    "        swap_strategy = SwapStrategy.from_line(range(len(g.nodes())))\n",
    "        sm = SATMapper(timeout=10)\n",
    "        remapped_graph, edge_map, min_swap_layers = sm.remap_graph_with_sat(\n",
    "            graph=g, swap_strategy=swap_strategy, max_layers=1\n",
    "        )\n",
    "        # print(\"Map from old to new nodes: \", edge_map)\n",
    "        # print(\"Min SWAP layers:\", min_swap_layers)\n",
    "        converter = GraphAnsatzConverter(\n",
    "            g if remapped_graph is None else remapped_graph\n",
    "        )\n",
    "        qaoa_circ = create_qaoa_swap_circuit(\n",
    "            converter.hamiltonian, swap_strategy, qaoa_layers=1\n",
    "        )\n",
    "        depth = qaoa_circ.decompose(reps=1).depth(lambda instr: instr.name == \"swap\")\n",
    "        # qaoa_circ.decompose(reps=1).draw(output=\"mpl\")\n",
    "        # swap_strategy_results[n].append(\n",
    "        #     len(qaoa_circ.decompose(reps=1).get_instructions(\"swap\"))\n",
    "        # )\n",
    "        swap_strategy_results[n].append(depth)"
   ]
  },
  {
   "cell_type": "code",
   "execution_count": null,
   "metadata": {},
   "outputs": [],
   "source": [
    "swap_strategy_results"
   ]
  },
  {
   "cell_type": "code",
   "execution_count": null,
   "metadata": {},
   "outputs": [],
   "source": [
    "plot_swap_counts(swap_strategy_results, label=\"swap_strategy\")"
   ]
  },
  {
   "cell_type": "code",
   "execution_count": 9,
   "metadata": {},
   "outputs": [],
   "source": [
    "ai_results = defaultdict(list)"
   ]
  },
  {
   "cell_type": "code",
   "execution_count": null,
   "metadata": {},
   "outputs": [],
   "source": [
    "import tensorflow as tf\n",
    "from rl import game\n",
    "# qubits = config[\"game_settings\"][\"N\"]\n",
    "for qubits in range(6,11):\n",
    "    game.initialize_game(qubits)\n",
    "    pattern = os.path.join(base_path, f\"adj_matrix_{qubits}_*.npy\")\n",
    "    file_paths = glob.glob(pattern)\n",
    "    if qubits == 4:\n",
    "        training_steps = 200\n",
    "    elif qubits == 5:\n",
    "        training_steps = 500\n",
    "    elif qubits == 6:\n",
    "        training_steps = 700\n",
    "    elif qubits == 7:\n",
    "        training_steps = 700\n",
    "    else:\n",
    "        training_steps = 800\n",
    "    network = tf.keras.models.load_model(f\"checkpoints/network{qubits}_{index}_{training_steps}\")\n",
    "    for file_path in file_paths:\n",
    "        trial = 0\n",
    "        min_depth = float(\"inf\")\n",
    "        while trial < 10:\n",
    "            state = np.load(file_path)\n",
    "            ans = []\n",
    "            done = False\n",
    "            total_score = 0\n",
    "            step_count = 0\n",
    "            prev_action = None\n",
    "            while not done and step_count < 50:\n",
    "                encoded_state = game.encode_state(state,qubits)\n",
    "                input_state = np.expand_dims(encoded_state, axis=0)\n",
    "\n",
    "                policy_output, value_output = network.predict(input_state)\n",
    "                policy = policy_output[0]\n",
    "                if prev_action is not None:\n",
    "                    indices = [i for i in range(game.ACTION_SPACE) if i != prev_action]\n",
    "\n",
    "                    prob = policy[indices]\n",
    "                    action = np.random.choice(indices, p=prob / prob.sum())\n",
    "                else:\n",
    "                    indices = list(range(game.ACTION_SPACE))\n",
    "                    action = np.random.choice(indices, p=policy)\n",
    "                selected_action = game.ACTIONS[action]\n",
    "                # print(f\"Step {step_count}: Selected action {selected_action}\")\n",
    "                ans.append(selected_action)\n",
    "                # アクションの適用\n",
    "                state, done, _ = game.step(state, action, prev_action)\n",
    "                prev_action = action\n",
    "                step_count += 1\n",
    "            qc = QuantumCircuit(qubits)\n",
    "            for swap in ans:\n",
    "                qc.swap(*swap)\n",
    "            depth = qc.depth(lambda instr: instr.name == \"swap\")\n",
    "            min_depth = min(depth,min_depth)\n",
    "            trial += 1\n",
    "        ai_results[qubits].append(min_depth)\n",
    "        # ai_results[qubits].append(len(ans))\n",
    "ai_results"
   ]
  },
  {
   "cell_type": "code",
   "execution_count": null,
   "metadata": {},
   "outputs": [],
   "source": [
    "ai_results"
   ]
  },
  {
   "cell_type": "code",
   "execution_count": null,
   "metadata": {},
   "outputs": [],
   "source": [
    "plot_swap_counts(ai_results, label=\"ai_strategy\")"
   ]
  },
  {
   "cell_type": "code",
   "execution_count": null,
   "metadata": {},
   "outputs": [],
   "source": [
    "def plot_swap_counts_combined(*results_list, labels=None, colors=None):\n",
    "\n",
    "    plt.figure(figsize=(8, 6))\n",
    "    for i, results in enumerate(results_list):\n",
    "        label = labels[i] if labels and i < len(labels) else f\"Strategy {i+1}\"\n",
    "        color = colors[i] if colors and i < len(colors) else None\n",
    "        keys = list(results.keys())\n",
    "        means = [np.mean(values) for values in results.values()]\n",
    "        std_devs = [np.std(values) for values in results.values()]\n",
    "        plt.plot(keys, means, label=label, marker=\"o\", linestyle=\"-\", color=color)\n",
    "        plt.fill_between(\n",
    "            keys,\n",
    "            [m - s for m, s in zip(means, std_devs)],\n",
    "            [m + s for m, s in zip(means, std_devs)],\n",
    "            color=color,\n",
    "            alpha=0.2,\n",
    "        )\n",
    "    plt.xlabel(\"Qubits\")\n",
    "    plt.ylabel(\"depth\")\n",
    "    plt.title(\"Depth vs. qubit counts\")\n",
    "    plt.legend()\n",
    "    plt.grid(True)\n",
    "    plt.show()\n",
    "\n",
    "plot_swap_counts_combined(\n",
    "    swap_strategy_results,\n",
    "    ai_results,\n",
    "    labels=[\"swap_strategy\", \"ai_strategy\"],\n",
    "    colors=[\"blue\", \"red\"]\n",
    ")"
   ]
  },
  {
   "cell_type": "code",
   "execution_count": null,
   "metadata": {},
   "outputs": [],
   "source": []
  }
 ],
 "metadata": {
  "kernelspec": {
   "display_name": "ait",
   "language": "python",
   "name": "python3"
  },
  "language_info": {
   "codemirror_mode": {
    "name": "ipython",
    "version": 3
   },
   "file_extension": ".py",
   "mimetype": "text/x-python",
   "name": "python",
   "nbconvert_exporter": "python",
   "pygments_lexer": "ipython3",
   "version": "3.10.3"
  }
 },
 "nbformat": 4,
 "nbformat_minor": 2
}
