{
 "cells": [
  {
   "cell_type": "code",
   "execution_count": 1,
   "metadata": {},
   "outputs": [],
   "source": [
    "from swap_strategy import create_qaoa_swap_circuit, SATMapper\n",
    "from utils import load_graph_from_npy\n",
    "from graph_to_ansatz import GraphAnsatzConverter\n",
    "\n",
    "from qiskit.transpiler.passes.routing.commuting_2q_gate_routing import SwapStrategy"
   ]
  },
  {
   "cell_type": "code",
   "execution_count": 2,
   "metadata": {},
   "outputs": [
    {
     "name": "stdout",
     "output_type": "stream",
     "text": [
      "Layers: 0, Status: False, Time: 0.00019200000000019202\n",
      "Map from old to new nodes:  None\n",
      "Min SWAP layers: None\n"
     ]
    },
    {
     "data": {
      "text/plain": [
       "10"
      ]
     },
     "execution_count": 2,
     "metadata": {},
     "output_type": "execute_result"
    }
   ],
   "source": [
    "g = load_graph_from_npy(\"graphs/adj_matrix_1.npy\")\n",
    "swap_strategy = SwapStrategy.from_line(range(len(g.nodes())))\n",
    "sm = SATMapper(timeout=10)\n",
    "remapped_graph, edge_map, min_swap_layers = sm.remap_graph_with_sat(\n",
    "    graph=g, swap_strategy=swap_strategy, max_layers=1\n",
    ")\n",
    "print(\"Map from old to new nodes: \", edge_map)\n",
    "print(\"Min SWAP layers:\", min_swap_layers)\n",
    "converter = GraphAnsatzConverter(g if remapped_graph is None else remapped_graph)\n",
    "qaoa_circ = create_qaoa_swap_circuit(\n",
    "    converter.hamiltonian, swap_strategy, qaoa_layers=1\n",
    ")\n",
    "# qaoa_circ.decompose(reps=1).draw(output=\"mpl\")\n",
    "len(qaoa_circ.decompose(reps=1).get_instructions(\"swap\"))"
   ]
  }
 ],
 "metadata": {
  "kernelspec": {
   "display_name": "ai_transpiler",
   "language": "python",
   "name": "python3"
  },
  "language_info": {
   "codemirror_mode": {
    "name": "ipython",
    "version": 3
   },
   "file_extension": ".py",
   "mimetype": "text/x-python",
   "name": "python",
   "nbconvert_exporter": "python",
   "pygments_lexer": "ipython3",
   "version": "3.12.7"
  }
 },
 "nbformat": 4,
 "nbformat_minor": 2
}
